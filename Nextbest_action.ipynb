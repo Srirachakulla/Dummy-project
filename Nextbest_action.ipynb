{
  "nbformat": 4,
  "nbformat_minor": 0,
  "metadata": {
    "colab": {
      "name": "Nextbest action.ipynb",
      "provenance": []
    },
    "kernelspec": {
      "name": "python3",
      "display_name": "Python 3"
    }
  },
  "cells": [
    {
      "cell_type": "code",
      "metadata": {
        "colab": {
          "base_uri": "https://localhost:8080/"
        },
        "id": "oUwQ3FvBHIuG",
        "outputId": "4785edff-88d7-47d2-bc6a-3ede4ea84fde"
      },
      "source": [
        "from google.colab import drive\r\n",
        "drive.mount('/content/gdrive')"
      ],
      "execution_count": null,
      "outputs": [
        {
          "output_type": "stream",
          "text": [
            "Mounted at /content/gdrive\n"
          ],
          "name": "stdout"
        }
      ]
    },
    {
      "cell_type": "code",
      "metadata": {
        "id": "3jYRGs1SIyij"
      },
      "source": [
        "import pandas as pd\r\n",
        "df=pd.read_csv('/content/gdrive/MyDrive/Event.csv')"
      ],
      "execution_count": null,
      "outputs": []
    },
    {
      "cell_type": "code",
      "metadata": {
        "colab": {
          "base_uri": "https://localhost:8080/",
          "height": 204
        },
        "id": "sa07Z2wJJHqI",
        "outputId": "2de8b352-025b-448c-d8f5-05b0be50beeb"
      },
      "source": [
        "df.head()"
      ],
      "execution_count": null,
      "outputs": [
        {
          "output_type": "execute_result",
          "data": {
            "text/html": [
              "<div>\n",
              "<style scoped>\n",
              "    .dataframe tbody tr th:only-of-type {\n",
              "        vertical-align: middle;\n",
              "    }\n",
              "\n",
              "    .dataframe tbody tr th {\n",
              "        vertical-align: top;\n",
              "    }\n",
              "\n",
              "    .dataframe thead th {\n",
              "        text-align: right;\n",
              "    }\n",
              "</style>\n",
              "<table border=\"1\" class=\"dataframe\">\n",
              "  <thead>\n",
              "    <tr style=\"text-align: right;\">\n",
              "      <th></th>\n",
              "      <th>Opportunity</th>\n",
              "      <th>Time</th>\n",
              "      <th>Stage</th>\n",
              "      <th>Action</th>\n",
              "    </tr>\n",
              "  </thead>\n",
              "  <tbody>\n",
              "    <tr>\n",
              "      <th>0</th>\n",
              "      <td>OP001</td>\n",
              "      <td>43456.60550</td>\n",
              "      <td>1</td>\n",
              "      <td>Emailed Client</td>\n",
              "    </tr>\n",
              "    <tr>\n",
              "      <th>1</th>\n",
              "      <td>OP001</td>\n",
              "      <td>43466.19231</td>\n",
              "      <td>1</td>\n",
              "      <td>Emailed Client</td>\n",
              "    </tr>\n",
              "    <tr>\n",
              "      <th>2</th>\n",
              "      <td>OP001</td>\n",
              "      <td>43471.51592</td>\n",
              "      <td>2</td>\n",
              "      <td>Meeting with Client</td>\n",
              "    </tr>\n",
              "    <tr>\n",
              "      <th>3</th>\n",
              "      <td>OP001</td>\n",
              "      <td>43479.39509</td>\n",
              "      <td>3</td>\n",
              "      <td>Presented to Client</td>\n",
              "    </tr>\n",
              "    <tr>\n",
              "      <th>4</th>\n",
              "      <td>OP001</td>\n",
              "      <td>43483.32009</td>\n",
              "      <td>3</td>\n",
              "      <td>Presented to Client</td>\n",
              "    </tr>\n",
              "  </tbody>\n",
              "</table>\n",
              "</div>"
            ],
            "text/plain": [
              "  Opportunity         Time  Stage               Action\n",
              "0       OP001  43456.60550      1       Emailed Client\n",
              "1       OP001  43466.19231      1       Emailed Client\n",
              "2       OP001  43471.51592      2  Meeting with Client\n",
              "3       OP001  43479.39509      3  Presented to Client\n",
              "4       OP001  43483.32009      3  Presented to Client"
            ]
          },
          "metadata": {
            "tags": []
          },
          "execution_count": 10
        }
      ]
    },
    {
      "cell_type": "code",
      "metadata": {
        "id": "_UWvEiatJHxK"
      },
      "source": [
        "df['Event Key'] = df['Stage'].astype(str) +'-'+ df['Action']"
      ],
      "execution_count": null,
      "outputs": []
    },
    {
      "cell_type": "code",
      "metadata": {
        "colab": {
          "base_uri": "https://localhost:8080/",
          "height": 1000
        },
        "id": "Kv4pVs4SJH06",
        "outputId": "13b66dc5-5c27-4cef-d6e8-1ec32e20ac3c"
      },
      "source": [
        "df.head(50)"
      ],
      "execution_count": null,
      "outputs": [
        {
          "output_type": "execute_result",
          "data": {
            "text/html": [
              "<div>\n",
              "<style scoped>\n",
              "    .dataframe tbody tr th:only-of-type {\n",
              "        vertical-align: middle;\n",
              "    }\n",
              "\n",
              "    .dataframe tbody tr th {\n",
              "        vertical-align: top;\n",
              "    }\n",
              "\n",
              "    .dataframe thead th {\n",
              "        text-align: right;\n",
              "    }\n",
              "</style>\n",
              "<table border=\"1\" class=\"dataframe\">\n",
              "  <thead>\n",
              "    <tr style=\"text-align: right;\">\n",
              "      <th></th>\n",
              "      <th>Time</th>\n",
              "      <th>Stage</th>\n",
              "      <th>Action</th>\n",
              "      <th>Event Key</th>\n",
              "    </tr>\n",
              "    <tr>\n",
              "      <th>Opportunity</th>\n",
              "      <th></th>\n",
              "      <th></th>\n",
              "      <th></th>\n",
              "      <th></th>\n",
              "    </tr>\n",
              "  </thead>\n",
              "  <tbody>\n",
              "    <tr>\n",
              "      <th>OP001</th>\n",
              "      <td>43456.60550</td>\n",
              "      <td>1</td>\n",
              "      <td>Emailed Client</td>\n",
              "      <td>1-Emailed Client</td>\n",
              "    </tr>\n",
              "    <tr>\n",
              "      <th>OP001</th>\n",
              "      <td>43466.19231</td>\n",
              "      <td>1</td>\n",
              "      <td>Emailed Client</td>\n",
              "      <td>1-Emailed Client</td>\n",
              "    </tr>\n",
              "    <tr>\n",
              "      <th>OP001</th>\n",
              "      <td>43471.51592</td>\n",
              "      <td>2</td>\n",
              "      <td>Meeting with Client</td>\n",
              "      <td>2-Meeting with Client</td>\n",
              "    </tr>\n",
              "    <tr>\n",
              "      <th>OP001</th>\n",
              "      <td>43479.39509</td>\n",
              "      <td>3</td>\n",
              "      <td>Presented to Client</td>\n",
              "      <td>3-Presented to Client</td>\n",
              "    </tr>\n",
              "    <tr>\n",
              "      <th>OP001</th>\n",
              "      <td>43483.32009</td>\n",
              "      <td>3</td>\n",
              "      <td>Presented to Client</td>\n",
              "      <td>3-Presented to Client</td>\n",
              "    </tr>\n",
              "    <tr>\n",
              "      <th>OP001</th>\n",
              "      <td>43491.23536</td>\n",
              "      <td>3</td>\n",
              "      <td>Presented to Client</td>\n",
              "      <td>3-Presented to Client</td>\n",
              "    </tr>\n",
              "    <tr>\n",
              "      <th>OP001</th>\n",
              "      <td>43492.82981</td>\n",
              "      <td>4</td>\n",
              "      <td>Prepared Custom Demonstration</td>\n",
              "      <td>4-Prepared Custom Demonstration</td>\n",
              "    </tr>\n",
              "    <tr>\n",
              "      <th>OP001</th>\n",
              "      <td>43496.21384</td>\n",
              "      <td>5</td>\n",
              "      <td>Prepared POC</td>\n",
              "      <td>5-Prepared POC</td>\n",
              "    </tr>\n",
              "    <tr>\n",
              "      <th>OP001</th>\n",
              "      <td>43505.60828</td>\n",
              "      <td>5</td>\n",
              "      <td>Prepared POC</td>\n",
              "      <td>5-Prepared POC</td>\n",
              "    </tr>\n",
              "    <tr>\n",
              "      <th>OP001</th>\n",
              "      <td>43509.59647</td>\n",
              "      <td>6</td>\n",
              "      <td>Provided Pre-Sales Support</td>\n",
              "      <td>6-Provided Pre-Sales Support</td>\n",
              "    </tr>\n",
              "    <tr>\n",
              "      <th>OP001</th>\n",
              "      <td>43515.23814</td>\n",
              "      <td>6</td>\n",
              "      <td>Provided Pre-Sales Support</td>\n",
              "      <td>6-Provided Pre-Sales Support</td>\n",
              "    </tr>\n",
              "    <tr>\n",
              "      <th>OP001</th>\n",
              "      <td>43526.02147</td>\n",
              "      <td>6</td>\n",
              "      <td>Provided Pre-Sales Support</td>\n",
              "      <td>6-Provided Pre-Sales Support</td>\n",
              "    </tr>\n",
              "    <tr>\n",
              "      <th>OP001</th>\n",
              "      <td>43536.79509</td>\n",
              "      <td>8</td>\n",
              "      <td>Prepared Commercials</td>\n",
              "      <td>8-Prepared Commercials</td>\n",
              "    </tr>\n",
              "    <tr>\n",
              "      <th>OP001</th>\n",
              "      <td>43538.67772</td>\n",
              "      <td>9</td>\n",
              "      <td>Negotiation Meeting</td>\n",
              "      <td>9-Negotiation Meeting</td>\n",
              "    </tr>\n",
              "    <tr>\n",
              "      <th>OP001</th>\n",
              "      <td>43547.13675</td>\n",
              "      <td>9</td>\n",
              "      <td>Negotiation Meeting</td>\n",
              "      <td>9-Negotiation Meeting</td>\n",
              "    </tr>\n",
              "    <tr>\n",
              "      <th>OP001</th>\n",
              "      <td>43555.60550</td>\n",
              "      <td>11</td>\n",
              "      <td>Post Sales Support</td>\n",
              "      <td>11-Post Sales Support</td>\n",
              "    </tr>\n",
              "    <tr>\n",
              "      <th>OP001</th>\n",
              "      <td>43561.78884</td>\n",
              "      <td>11</td>\n",
              "      <td>Post Sales Support</td>\n",
              "      <td>11-Post Sales Support</td>\n",
              "    </tr>\n",
              "    <tr>\n",
              "      <th>OP002</th>\n",
              "      <td>43456.60550</td>\n",
              "      <td>1</td>\n",
              "      <td>Emailed Client</td>\n",
              "      <td>1-Emailed Client</td>\n",
              "    </tr>\n",
              "    <tr>\n",
              "      <th>OP002</th>\n",
              "      <td>43466.56731</td>\n",
              "      <td>2</td>\n",
              "      <td>Meeting with Client</td>\n",
              "      <td>2-Meeting with Client</td>\n",
              "    </tr>\n",
              "    <tr>\n",
              "      <th>OP002</th>\n",
              "      <td>43474.66939</td>\n",
              "      <td>2</td>\n",
              "      <td>Meeting with Client</td>\n",
              "      <td>2-Meeting with Client</td>\n",
              "    </tr>\n",
              "    <tr>\n",
              "      <th>OP002</th>\n",
              "      <td>43485.56731</td>\n",
              "      <td>2</td>\n",
              "      <td>Meeting with Client</td>\n",
              "      <td>2-Meeting with Client</td>\n",
              "    </tr>\n",
              "    <tr>\n",
              "      <th>OP002</th>\n",
              "      <td>43487.45759</td>\n",
              "      <td>2</td>\n",
              "      <td>Meeting with Client</td>\n",
              "      <td>2-Meeting with Client</td>\n",
              "    </tr>\n",
              "    <tr>\n",
              "      <th>OP002</th>\n",
              "      <td>43491.68259</td>\n",
              "      <td>4</td>\n",
              "      <td>Prepared Custom Demonstration</td>\n",
              "      <td>4-Prepared Custom Demonstration</td>\n",
              "    </tr>\n",
              "    <tr>\n",
              "      <th>OP002</th>\n",
              "      <td>43498.96453</td>\n",
              "      <td>4</td>\n",
              "      <td>Prepared Custom Demonstration</td>\n",
              "      <td>4-Prepared Custom Demonstration</td>\n",
              "    </tr>\n",
              "    <tr>\n",
              "      <th>OP002</th>\n",
              "      <td>43500.32981</td>\n",
              "      <td>4</td>\n",
              "      <td>Prepared Custom Demonstration</td>\n",
              "      <td>4-Prepared Custom Demonstration</td>\n",
              "    </tr>\n",
              "    <tr>\n",
              "      <th>OP002</th>\n",
              "      <td>43507.69300</td>\n",
              "      <td>5</td>\n",
              "      <td>Prepared POC</td>\n",
              "      <td>5-Prepared POC</td>\n",
              "    </tr>\n",
              "    <tr>\n",
              "      <th>OP002</th>\n",
              "      <td>43510.49161</td>\n",
              "      <td>6</td>\n",
              "      <td>Provided Pre-Sales Support</td>\n",
              "      <td>6-Provided Pre-Sales Support</td>\n",
              "    </tr>\n",
              "    <tr>\n",
              "      <th>OP002</th>\n",
              "      <td>43515.22981</td>\n",
              "      <td>6</td>\n",
              "      <td>Provided Pre-Sales Support</td>\n",
              "      <td>6-Provided Pre-Sales Support</td>\n",
              "    </tr>\n",
              "    <tr>\n",
              "      <th>OP002</th>\n",
              "      <td>43522.14578</td>\n",
              "      <td>6</td>\n",
              "      <td>Provided Pre-Sales Support</td>\n",
              "      <td>6-Provided Pre-Sales Support</td>\n",
              "    </tr>\n",
              "    <tr>\n",
              "      <th>OP002</th>\n",
              "      <td>43530.36800</td>\n",
              "      <td>7</td>\n",
              "      <td>Prepared RFP Responses</td>\n",
              "      <td>7-Prepared RFP Responses</td>\n",
              "    </tr>\n",
              "    <tr>\n",
              "      <th>OP002</th>\n",
              "      <td>43531.42564</td>\n",
              "      <td>8</td>\n",
              "      <td>Prepared Commercials</td>\n",
              "      <td>8-Prepared Commercials</td>\n",
              "    </tr>\n",
              "    <tr>\n",
              "      <th>OP002</th>\n",
              "      <td>43540.14439</td>\n",
              "      <td>8</td>\n",
              "      <td>Prepared Commercials</td>\n",
              "      <td>8-Prepared Commercials</td>\n",
              "    </tr>\n",
              "    <tr>\n",
              "      <th>OP002</th>\n",
              "      <td>43541.94786</td>\n",
              "      <td>10</td>\n",
              "      <td>Commercials Signed</td>\n",
              "      <td>10-Commercials Signed</td>\n",
              "    </tr>\n",
              "    <tr>\n",
              "      <th>OP002</th>\n",
              "      <td>43547.81731</td>\n",
              "      <td>11</td>\n",
              "      <td>Post Sales Support</td>\n",
              "      <td>11-Post Sales Support</td>\n",
              "    </tr>\n",
              "    <tr>\n",
              "      <th>OP002</th>\n",
              "      <td>43550.24439</td>\n",
              "      <td>11</td>\n",
              "      <td>Post Sales Support</td>\n",
              "      <td>11-Post Sales Support</td>\n",
              "    </tr>\n",
              "    <tr>\n",
              "      <th>OP002</th>\n",
              "      <td>43558.49995</td>\n",
              "      <td>11</td>\n",
              "      <td>Post Sales Support</td>\n",
              "      <td>11-Post Sales Support</td>\n",
              "    </tr>\n",
              "    <tr>\n",
              "      <th>OP003</th>\n",
              "      <td>43457.60550</td>\n",
              "      <td>2</td>\n",
              "      <td>Meeting with Client</td>\n",
              "      <td>2-Meeting with Client</td>\n",
              "    </tr>\n",
              "    <tr>\n",
              "      <th>OP003</th>\n",
              "      <td>43459.32356</td>\n",
              "      <td>3</td>\n",
              "      <td>Presented to Client</td>\n",
              "      <td>3-Presented to Client</td>\n",
              "    </tr>\n",
              "    <tr>\n",
              "      <th>OP003</th>\n",
              "      <td>43466.81939</td>\n",
              "      <td>3</td>\n",
              "      <td>Presented to Client</td>\n",
              "      <td>3-Presented to Client</td>\n",
              "    </tr>\n",
              "    <tr>\n",
              "      <th>OP003</th>\n",
              "      <td>43469.71661</td>\n",
              "      <td>3</td>\n",
              "      <td>Presented to Client</td>\n",
              "      <td>3-Presented to Client</td>\n",
              "    </tr>\n",
              "    <tr>\n",
              "      <th>OP003</th>\n",
              "      <td>43477.01245</td>\n",
              "      <td>4</td>\n",
              "      <td>Prepared Custom Demonstration</td>\n",
              "      <td>4-Prepared Custom Demonstration</td>\n",
              "    </tr>\n",
              "    <tr>\n",
              "      <th>OP003</th>\n",
              "      <td>43484.31036</td>\n",
              "      <td>5</td>\n",
              "      <td>Prepared POC</td>\n",
              "      <td>5-Prepared POC</td>\n",
              "    </tr>\n",
              "    <tr>\n",
              "      <th>OP003</th>\n",
              "      <td>43485.41522</td>\n",
              "      <td>7</td>\n",
              "      <td>Prepared RFP Responses</td>\n",
              "      <td>7-Prepared RFP Responses</td>\n",
              "    </tr>\n",
              "    <tr>\n",
              "      <th>OP003</th>\n",
              "      <td>43495.45689</td>\n",
              "      <td>7</td>\n",
              "      <td>Prepared RFP Responses</td>\n",
              "      <td>7-Prepared RFP Responses</td>\n",
              "    </tr>\n",
              "    <tr>\n",
              "      <th>OP003</th>\n",
              "      <td>43498.46800</td>\n",
              "      <td>7</td>\n",
              "      <td>Prepared RFP Responses</td>\n",
              "      <td>7-Prepared RFP Responses</td>\n",
              "    </tr>\n",
              "    <tr>\n",
              "      <th>OP003</th>\n",
              "      <td>43500.23814</td>\n",
              "      <td>7</td>\n",
              "      <td>Prepared RFP Responses</td>\n",
              "      <td>7-Prepared RFP Responses</td>\n",
              "    </tr>\n",
              "    <tr>\n",
              "      <th>OP003</th>\n",
              "      <td>43508.60134</td>\n",
              "      <td>8</td>\n",
              "      <td>Prepared Commercials</td>\n",
              "      <td>8-Prepared Commercials</td>\n",
              "    </tr>\n",
              "    <tr>\n",
              "      <th>OP003</th>\n",
              "      <td>43514.86731</td>\n",
              "      <td>8</td>\n",
              "      <td>Prepared Commercials</td>\n",
              "      <td>8-Prepared Commercials</td>\n",
              "    </tr>\n",
              "    <tr>\n",
              "      <th>OP003</th>\n",
              "      <td>43517.92286</td>\n",
              "      <td>8</td>\n",
              "      <td>Prepared Commercials</td>\n",
              "      <td>8-Prepared Commercials</td>\n",
              "    </tr>\n",
              "    <tr>\n",
              "      <th>OP003</th>\n",
              "      <td>43525.77564</td>\n",
              "      <td>11</td>\n",
              "      <td>Post Sales Support</td>\n",
              "      <td>11-Post Sales Support</td>\n",
              "    </tr>\n",
              "  </tbody>\n",
              "</table>\n",
              "</div>"
            ],
            "text/plain": [
              "                    Time  ...                        Event Key\n",
              "Opportunity               ...                                 \n",
              "OP001        43456.60550  ...                 1-Emailed Client\n",
              "OP001        43466.19231  ...                 1-Emailed Client\n",
              "OP001        43471.51592  ...            2-Meeting with Client\n",
              "OP001        43479.39509  ...            3-Presented to Client\n",
              "OP001        43483.32009  ...            3-Presented to Client\n",
              "OP001        43491.23536  ...            3-Presented to Client\n",
              "OP001        43492.82981  ...  4-Prepared Custom Demonstration\n",
              "OP001        43496.21384  ...                   5-Prepared POC\n",
              "OP001        43505.60828  ...                   5-Prepared POC\n",
              "OP001        43509.59647  ...     6-Provided Pre-Sales Support\n",
              "OP001        43515.23814  ...     6-Provided Pre-Sales Support\n",
              "OP001        43526.02147  ...     6-Provided Pre-Sales Support\n",
              "OP001        43536.79509  ...           8-Prepared Commercials\n",
              "OP001        43538.67772  ...            9-Negotiation Meeting\n",
              "OP001        43547.13675  ...            9-Negotiation Meeting\n",
              "OP001        43555.60550  ...            11-Post Sales Support\n",
              "OP001        43561.78884  ...            11-Post Sales Support\n",
              "OP002        43456.60550  ...                 1-Emailed Client\n",
              "OP002        43466.56731  ...            2-Meeting with Client\n",
              "OP002        43474.66939  ...            2-Meeting with Client\n",
              "OP002        43485.56731  ...            2-Meeting with Client\n",
              "OP002        43487.45759  ...            2-Meeting with Client\n",
              "OP002        43491.68259  ...  4-Prepared Custom Demonstration\n",
              "OP002        43498.96453  ...  4-Prepared Custom Demonstration\n",
              "OP002        43500.32981  ...  4-Prepared Custom Demonstration\n",
              "OP002        43507.69300  ...                   5-Prepared POC\n",
              "OP002        43510.49161  ...     6-Provided Pre-Sales Support\n",
              "OP002        43515.22981  ...     6-Provided Pre-Sales Support\n",
              "OP002        43522.14578  ...     6-Provided Pre-Sales Support\n",
              "OP002        43530.36800  ...         7-Prepared RFP Responses\n",
              "OP002        43531.42564  ...           8-Prepared Commercials\n",
              "OP002        43540.14439  ...           8-Prepared Commercials\n",
              "OP002        43541.94786  ...            10-Commercials Signed\n",
              "OP002        43547.81731  ...            11-Post Sales Support\n",
              "OP002        43550.24439  ...            11-Post Sales Support\n",
              "OP002        43558.49995  ...            11-Post Sales Support\n",
              "OP003        43457.60550  ...            2-Meeting with Client\n",
              "OP003        43459.32356  ...            3-Presented to Client\n",
              "OP003        43466.81939  ...            3-Presented to Client\n",
              "OP003        43469.71661  ...            3-Presented to Client\n",
              "OP003        43477.01245  ...  4-Prepared Custom Demonstration\n",
              "OP003        43484.31036  ...                   5-Prepared POC\n",
              "OP003        43485.41522  ...         7-Prepared RFP Responses\n",
              "OP003        43495.45689  ...         7-Prepared RFP Responses\n",
              "OP003        43498.46800  ...         7-Prepared RFP Responses\n",
              "OP003        43500.23814  ...         7-Prepared RFP Responses\n",
              "OP003        43508.60134  ...           8-Prepared Commercials\n",
              "OP003        43514.86731  ...           8-Prepared Commercials\n",
              "OP003        43517.92286  ...           8-Prepared Commercials\n",
              "OP003        43525.77564  ...            11-Post Sales Support\n",
              "\n",
              "[50 rows x 4 columns]"
            ]
          },
          "metadata": {
            "tags": []
          },
          "execution_count": 50
        }
      ]
    },
    {
      "cell_type": "code",
      "metadata": {
        "id": "udHMYf4-JH5d"
      },
      "source": [
        "events = list(df['Event Key'].unique())"
      ],
      "execution_count": null,
      "outputs": []
    },
    {
      "cell_type": "code",
      "metadata": {
        "id": "OcYKvhDEJH_P"
      },
      "source": [
        "events = list(df['Event Key'].unique())\r\n",
        "ev = events.pop(8)\r\n",
        "events.append(ev)\r\n",
        "events = ['0-Dummy'] + events"
      ],
      "execution_count": null,
      "outputs": []
    },
    {
      "cell_type": "code",
      "metadata": {
        "colab": {
          "base_uri": "https://localhost:8080/"
        },
        "id": "b_xXlXAAJIER",
        "outputId": "dcf2f28c-d449-44c8-d1a7-0585b7505720"
      },
      "source": [
        "events"
      ],
      "execution_count": null,
      "outputs": [
        {
          "output_type": "execute_result",
          "data": {
            "text/plain": [
              "['0-Dummy',\n",
              " '1-Emailed Client',\n",
              " '2-Meeting with Client',\n",
              " '3-Presented to Client',\n",
              " '4-Prepared Custom Demonstration',\n",
              " '5-Prepared POC',\n",
              " '6-Provided Pre-Sales Support',\n",
              " '8-Prepared Commercials',\n",
              " '9-Negotiation Meeting',\n",
              " '7-Prepared RFP Responses',\n",
              " '10-Commercials Signed',\n",
              " '11-Post Sales Support']"
            ]
          },
          "metadata": {
            "tags": []
          },
          "execution_count": 16
        }
      ]
    },
    {
      "cell_type": "code",
      "metadata": {
        "colab": {
          "base_uri": "https://localhost:8080/",
          "height": 204
        },
        "id": "62-efNOeJIHx",
        "outputId": "4e8c59f8-e677-4c71-d006-62ae4258f04e"
      },
      "source": [
        "df.head()"
      ],
      "execution_count": null,
      "outputs": [
        {
          "output_type": "execute_result",
          "data": {
            "text/html": [
              "<div>\n",
              "<style scoped>\n",
              "    .dataframe tbody tr th:only-of-type {\n",
              "        vertical-align: middle;\n",
              "    }\n",
              "\n",
              "    .dataframe tbody tr th {\n",
              "        vertical-align: top;\n",
              "    }\n",
              "\n",
              "    .dataframe thead th {\n",
              "        text-align: right;\n",
              "    }\n",
              "</style>\n",
              "<table border=\"1\" class=\"dataframe\">\n",
              "  <thead>\n",
              "    <tr style=\"text-align: right;\">\n",
              "      <th></th>\n",
              "      <th>Opportunity</th>\n",
              "      <th>Time</th>\n",
              "      <th>Stage</th>\n",
              "      <th>Action</th>\n",
              "      <th>Event Key</th>\n",
              "    </tr>\n",
              "  </thead>\n",
              "  <tbody>\n",
              "    <tr>\n",
              "      <th>0</th>\n",
              "      <td>OP001</td>\n",
              "      <td>43456.60550</td>\n",
              "      <td>1</td>\n",
              "      <td>Emailed Client</td>\n",
              "      <td>1-Emailed Client</td>\n",
              "    </tr>\n",
              "    <tr>\n",
              "      <th>1</th>\n",
              "      <td>OP001</td>\n",
              "      <td>43466.19231</td>\n",
              "      <td>1</td>\n",
              "      <td>Emailed Client</td>\n",
              "      <td>1-Emailed Client</td>\n",
              "    </tr>\n",
              "    <tr>\n",
              "      <th>2</th>\n",
              "      <td>OP001</td>\n",
              "      <td>43471.51592</td>\n",
              "      <td>2</td>\n",
              "      <td>Meeting with Client</td>\n",
              "      <td>2-Meeting with Client</td>\n",
              "    </tr>\n",
              "    <tr>\n",
              "      <th>3</th>\n",
              "      <td>OP001</td>\n",
              "      <td>43479.39509</td>\n",
              "      <td>3</td>\n",
              "      <td>Presented to Client</td>\n",
              "      <td>3-Presented to Client</td>\n",
              "    </tr>\n",
              "    <tr>\n",
              "      <th>4</th>\n",
              "      <td>OP001</td>\n",
              "      <td>43483.32009</td>\n",
              "      <td>3</td>\n",
              "      <td>Presented to Client</td>\n",
              "      <td>3-Presented to Client</td>\n",
              "    </tr>\n",
              "  </tbody>\n",
              "</table>\n",
              "</div>"
            ],
            "text/plain": [
              "  Opportunity         Time  Stage               Action              Event Key\n",
              "0       OP001  43456.60550      1       Emailed Client       1-Emailed Client\n",
              "1       OP001  43466.19231      1       Emailed Client       1-Emailed Client\n",
              "2       OP001  43471.51592      2  Meeting with Client  2-Meeting with Client\n",
              "3       OP001  43479.39509      3  Presented to Client  3-Presented to Client\n",
              "4       OP001  43483.32009      3  Presented to Client  3-Presented to Client"
            ]
          },
          "metadata": {
            "tags": []
          },
          "execution_count": 17
        }
      ]
    },
    {
      "cell_type": "code",
      "metadata": {
        "id": "awluPv5wJILT"
      },
      "source": [
        "series_length = 5\r\n",
        "categories = len(events)\r\n",
        "time_steps = series_length -1"
      ],
      "execution_count": null,
      "outputs": []
    },
    {
      "cell_type": "code",
      "metadata": {
        "id": "bCGDoJz1JIO8"
      },
      "source": [
        "df.set_index('Opportunity', inplace=True)"
      ],
      "execution_count": null,
      "outputs": []
    },
    {
      "cell_type": "code",
      "metadata": {
        "id": "Fb-z1rC8JISx"
      },
      "source": [
        "history = []\r\n",
        "for op in df.index:\r\n",
        "    for x in range(len(df['Stage'].loc[op].values)-series_length):\r\n",
        "        history.append(df['Stage'].loc[op].values[x:x+series_length])"
      ],
      "execution_count": null,
      "outputs": []
    },
    {
      "cell_type": "code",
      "metadata": {
        "colab": {
          "base_uri": "https://localhost:8080/"
        },
        "id": "v3Aj3px_JIXR",
        "outputId": "64b0cbfc-f77f-4925-b794-3aea38bdc677"
      },
      "source": [
        "import numpy as np\r\n",
        "np.array(history).shape"
      ],
      "execution_count": null,
      "outputs": [
        {
          "output_type": "execute_result",
          "data": {
            "text/plain": [
              "(16176, 5)"
            ]
          },
          "metadata": {
            "tags": []
          },
          "execution_count": 22
        }
      ]
    },
    {
      "cell_type": "code",
      "metadata": {
        "colab": {
          "base_uri": "https://localhost:8080/"
        },
        "id": "OAufTlHpK8OZ",
        "outputId": "e853c748-6b47-4eea-bff8-a7fb0bf652a4"
      },
      "source": [
        "history[:5]"
      ],
      "execution_count": null,
      "outputs": [
        {
          "output_type": "execute_result",
          "data": {
            "text/plain": [
              "[array([1, 1, 2, 3, 3]),\n",
              " array([1, 2, 3, 3, 3]),\n",
              " array([2, 3, 3, 3, 4]),\n",
              " array([3, 3, 3, 4, 5]),\n",
              " array([3, 3, 4, 5, 5])]"
            ]
          },
          "metadata": {
            "tags": []
          },
          "execution_count": 23
        }
      ]
    },
    {
      "cell_type": "code",
      "metadata": {
        "id": "IP1tdzl0LC2N"
      },
      "source": [
        "from tensorflow.keras.utils import to_categorical"
      ],
      "execution_count": null,
      "outputs": []
    },
    {
      "cell_type": "code",
      "metadata": {
        "id": "wiaElQ8uLHwm"
      },
      "source": [
        "\r\n",
        "X= np.array([row[:time_steps] for row in history])"
      ],
      "execution_count": null,
      "outputs": []
    },
    {
      "cell_type": "code",
      "metadata": {
        "id": "sRQBCB3DLKPa"
      },
      "source": [
        "\r\n",
        "X = to_categorical(X)"
      ],
      "execution_count": null,
      "outputs": []
    },
    {
      "cell_type": "code",
      "metadata": {
        "id": "vobUiUekLKv_"
      },
      "source": [
        "y=np.array([row[time_steps] for row in history])"
      ],
      "execution_count": null,
      "outputs": []
    },
    {
      "cell_type": "code",
      "metadata": {
        "id": "6c4I8iyJLK1U"
      },
      "source": [
        "y = to_categorical(y).reshape(-1,categories)"
      ],
      "execution_count": null,
      "outputs": []
    },
    {
      "cell_type": "code",
      "metadata": {
        "colab": {
          "base_uri": "https://localhost:8080/"
        },
        "id": "f5G-4KY9LK5b",
        "outputId": "2389fc94-19cd-4159-f036-29858ddc95b2"
      },
      "source": [
        "X.shape"
      ],
      "execution_count": null,
      "outputs": [
        {
          "output_type": "execute_result",
          "data": {
            "text/plain": [
              "(16176, 4, 12)"
            ]
          },
          "metadata": {
            "tags": []
          },
          "execution_count": 30
        }
      ]
    },
    {
      "cell_type": "code",
      "metadata": {
        "colab": {
          "base_uri": "https://localhost:8080/"
        },
        "id": "d9F_lrWeLK9b",
        "outputId": "c49f9fd8-64fe-42a4-f2b0-c817b2a82719"
      },
      "source": [
        "y.shape"
      ],
      "execution_count": null,
      "outputs": [
        {
          "output_type": "execute_result",
          "data": {
            "text/plain": [
              "(16176, 12)"
            ]
          },
          "metadata": {
            "tags": []
          },
          "execution_count": 31
        }
      ]
    },
    {
      "cell_type": "code",
      "metadata": {
        "id": "MwH0_hg-LLCu"
      },
      "source": [
        "from sklearn.model_selection import train_test_split\r\n",
        "X_train, X_test, y_train, y_test = train_test_split(X,y,test_size=0.3)"
      ],
      "execution_count": null,
      "outputs": []
    },
    {
      "cell_type": "code",
      "metadata": {
        "colab": {
          "base_uri": "https://localhost:8080/"
        },
        "id": "KuJMH3qfLLG_",
        "outputId": "05719bb5-76fa-4db3-dc38-76b3bbe439ec"
      },
      "source": [
        "print(X_train.shape, X_test.shape, y_train.shape, y_test.shape)"
      ],
      "execution_count": null,
      "outputs": [
        {
          "output_type": "stream",
          "text": [
            "(11323, 4, 12) (4853, 4, 12) (11323, 12) (4853, 12)\n"
          ],
          "name": "stdout"
        }
      ]
    },
    {
      "cell_type": "code",
      "metadata": {
        "id": "Knj8bgwyLLLj"
      },
      "source": [
        "from tensorflow.keras.models import Sequential\r\n",
        "from tensorflow.keras.layers import LSTM, Dense"
      ],
      "execution_count": null,
      "outputs": []
    },
    {
      "cell_type": "code",
      "metadata": {
        "id": "emuGyRegLfZx"
      },
      "source": [
        "model = Sequential()"
      ],
      "execution_count": null,
      "outputs": []
    },
    {
      "cell_type": "code",
      "metadata": {
        "id": "kLNKlTVgLfny"
      },
      "source": [
        "model.add(LSTM(10, activation='relu', return_sequences=True, input_shape=(time_steps,categories)))\r\n",
        "model.add(LSTM(10, activation='relu'))\r\n",
        "model.add(Dense(categories, activation='softmax'))\r\n",
        "model.compile('adam', loss='categorical_crossentropy')"
      ],
      "execution_count": null,
      "outputs": []
    },
    {
      "cell_type": "code",
      "metadata": {
        "colab": {
          "base_uri": "https://localhost:8080/"
        },
        "id": "b3vlQ14ZLf1m",
        "outputId": "48a31897-12e2-4fab-a44e-1029cdaea06a"
      },
      "source": [
        "model.summary()"
      ],
      "execution_count": null,
      "outputs": [
        {
          "output_type": "stream",
          "text": [
            "Model: \"sequential\"\n",
            "_________________________________________________________________\n",
            "Layer (type)                 Output Shape              Param #   \n",
            "=================================================================\n",
            "lstm (LSTM)                  (None, 4, 10)             920       \n",
            "_________________________________________________________________\n",
            "lstm_1 (LSTM)                (None, 10)                840       \n",
            "_________________________________________________________________\n",
            "dense (Dense)                (None, 12)                132       \n",
            "=================================================================\n",
            "Total params: 1,892\n",
            "Trainable params: 1,892\n",
            "Non-trainable params: 0\n",
            "_________________________________________________________________\n"
          ],
          "name": "stdout"
        }
      ]
    },
    {
      "cell_type": "code",
      "metadata": {
        "colab": {
          "base_uri": "https://localhost:8080/"
        },
        "id": "_aNvHgj-LgBJ",
        "outputId": "03226a74-64cd-4770-d862-17c3ea8af726"
      },
      "source": [
        "model.fit(X_train,y_train, epochs=10)"
      ],
      "execution_count": null,
      "outputs": [
        {
          "output_type": "stream",
          "text": [
            "Epoch 1/10\n",
            "354/354 [==============================] - 1s 4ms/step - loss: 1.7404\n",
            "Epoch 2/10\n",
            "354/354 [==============================] - 1s 4ms/step - loss: 1.1181\n",
            "Epoch 3/10\n",
            "354/354 [==============================] - 1s 4ms/step - loss: 1.0329\n",
            "Epoch 4/10\n",
            "354/354 [==============================] - 1s 4ms/step - loss: 0.9953\n",
            "Epoch 5/10\n",
            "354/354 [==============================] - 1s 4ms/step - loss: 0.9729\n",
            "Epoch 6/10\n",
            "354/354 [==============================] - 1s 4ms/step - loss: 0.9664\n",
            "Epoch 7/10\n",
            "354/354 [==============================] - 1s 4ms/step - loss: 0.9584\n",
            "Epoch 8/10\n",
            "354/354 [==============================] - 1s 4ms/step - loss: 0.9496\n",
            "Epoch 9/10\n",
            "354/354 [==============================] - 1s 4ms/step - loss: 0.9477\n",
            "Epoch 10/10\n",
            "354/354 [==============================] - 1s 4ms/step - loss: 0.9434\n"
          ],
          "name": "stdout"
        },
        {
          "output_type": "execute_result",
          "data": {
            "text/plain": [
              "<tensorflow.python.keras.callbacks.History at 0x7f169469bfd0>"
            ]
          },
          "metadata": {
            "tags": []
          },
          "execution_count": 38
        }
      ]
    },
    {
      "cell_type": "code",
      "metadata": {
        "id": "gWKk_1XhLxGF"
      },
      "source": [
        "prediction = model.predict(X_test)"
      ],
      "execution_count": null,
      "outputs": []
    },
    {
      "cell_type": "code",
      "metadata": {
        "colab": {
          "base_uri": "https://localhost:8080/"
        },
        "id": "UMIXLNUtL6Du",
        "outputId": "0028d1bb-304a-49f8-8c32-6f0d56d10eac"
      },
      "source": [
        "X_test"
      ],
      "execution_count": null,
      "outputs": [
        {
          "output_type": "execute_result",
          "data": {
            "text/plain": [
              "array([[[0., 0., 0., ..., 0., 0., 0.],\n",
              "        [0., 0., 0., ..., 0., 1., 0.],\n",
              "        [0., 0., 0., ..., 0., 1., 0.],\n",
              "        [0., 0., 0., ..., 0., 1., 0.]],\n",
              "\n",
              "       [[0., 0., 1., ..., 0., 0., 0.],\n",
              "        [0., 0., 0., ..., 0., 0., 0.],\n",
              "        [0., 0., 0., ..., 0., 0., 0.],\n",
              "        [0., 0., 0., ..., 0., 0., 0.]],\n",
              "\n",
              "       [[0., 0., 1., ..., 0., 0., 0.],\n",
              "        [0., 0., 1., ..., 0., 0., 0.],\n",
              "        [0., 0., 1., ..., 0., 0., 0.],\n",
              "        [0., 0., 0., ..., 0., 0., 0.]],\n",
              "\n",
              "       ...,\n",
              "\n",
              "       [[0., 0., 0., ..., 0., 0., 0.],\n",
              "        [0., 0., 0., ..., 0., 0., 0.],\n",
              "        [0., 0., 0., ..., 0., 0., 0.],\n",
              "        [0., 0., 0., ..., 0., 0., 0.]],\n",
              "\n",
              "       [[0., 0., 0., ..., 0., 0., 0.],\n",
              "        [0., 0., 0., ..., 0., 0., 0.],\n",
              "        [0., 0., 0., ..., 0., 0., 0.],\n",
              "        [0., 0., 0., ..., 0., 0., 0.]],\n",
              "\n",
              "       [[0., 0., 0., ..., 0., 0., 0.],\n",
              "        [0., 0., 0., ..., 0., 0., 0.],\n",
              "        [0., 0., 0., ..., 1., 0., 0.],\n",
              "        [0., 0., 0., ..., 1., 0., 0.]]], dtype=float32)"
            ]
          },
          "metadata": {
            "tags": []
          },
          "execution_count": 40
        }
      ]
    },
    {
      "cell_type": "code",
      "metadata": {
        "colab": {
          "base_uri": "https://localhost:8080/",
          "height": 35
        },
        "id": "42M_bA6dL-7n",
        "outputId": "f3ca6912-c5dd-4078-eb76-c018fae39d02"
      },
      "source": [
        "events[np.argmax(prediction[1])]"
      ],
      "execution_count": null,
      "outputs": [
        {
          "output_type": "execute_result",
          "data": {
            "application/vnd.google.colaboratory.intrinsic+json": {
              "type": "string"
            },
            "text/plain": [
              "'5-Prepared POC'"
            ]
          },
          "metadata": {
            "tags": []
          },
          "execution_count": 41
        }
      ]
    },
    {
      "cell_type": "code",
      "metadata": {
        "colab": {
          "base_uri": "https://localhost:8080/"
        },
        "id": "ZGyjefUeMDXr",
        "outputId": "013697db-61b4-4078-fc5e-9c4681cf0968"
      },
      "source": [
        "np.argmax(y_test[1])"
      ],
      "execution_count": null,
      "outputs": [
        {
          "output_type": "execute_result",
          "data": {
            "text/plain": [
              "6"
            ]
          },
          "metadata": {
            "tags": []
          },
          "execution_count": 42
        }
      ]
    },
    {
      "cell_type": "code",
      "metadata": {
        "colab": {
          "base_uri": "https://localhost:8080/"
        },
        "id": "smRV_vP7MGcn",
        "outputId": "f225be3c-0092-4de6-909b-ee89662680d5"
      },
      "source": [
        "\r\n",
        "np.argmax(prediction[1])"
      ],
      "execution_count": null,
      "outputs": [
        {
          "output_type": "execute_result",
          "data": {
            "text/plain": [
              "5"
            ]
          },
          "metadata": {
            "tags": []
          },
          "execution_count": 43
        }
      ]
    },
    {
      "cell_type": "code",
      "metadata": {
        "id": "Mm2ESFx5MIzT"
      },
      "source": [
        "import tensorflow as tf\r\n",
        "from tensorflow.keras.metrics import top_k_categorical_accuracy"
      ],
      "execution_count": null,
      "outputs": []
    },
    {
      "cell_type": "code",
      "metadata": {
        "colab": {
          "base_uri": "https://localhost:8080/",
          "height": 214
        },
        "id": "2AiOxacsMK1q",
        "outputId": "5fe5e8e2-6350-4bad-dd5a-9deba17ba7b1"
      },
      "source": [
        "with tf.Session() as sess:  \r\n",
        "    print('Correct event was top prediction:', top_k_categorical_accuracy(y_test,prediction, k=1).eval())\r\n",
        "    print('Correct event was in top two prediction:', top_k_categorical_accuracy(y_test,prediction, k=2).eval())\r\n",
        "    print('Correct event was in top three prediction:', top_k_categorical_accuracy(y_test,prediction, k=3).eval())"
      ],
      "execution_count": null,
      "outputs": [
        {
          "output_type": "error",
          "ename": "AttributeError",
          "evalue": "ignored",
          "traceback": [
            "\u001b[0;31m---------------------------------------------------------------------------\u001b[0m",
            "\u001b[0;31mAttributeError\u001b[0m                            Traceback (most recent call last)",
            "\u001b[0;32m<ipython-input-49-458d788f96dd>\u001b[0m in \u001b[0;36m<module>\u001b[0;34m()\u001b[0m\n\u001b[0;32m----> 1\u001b[0;31m \u001b[0;32mwith\u001b[0m \u001b[0mtf\u001b[0m\u001b[0;34m.\u001b[0m\u001b[0mSession\u001b[0m\u001b[0;34m(\u001b[0m\u001b[0;34m)\u001b[0m \u001b[0;32mas\u001b[0m \u001b[0msess\u001b[0m\u001b[0;34m:\u001b[0m\u001b[0;34m\u001b[0m\u001b[0;34m\u001b[0m\u001b[0m\n\u001b[0m\u001b[1;32m      2\u001b[0m     \u001b[0mprint\u001b[0m\u001b[0;34m(\u001b[0m\u001b[0;34m'Correct event was top prediction:'\u001b[0m\u001b[0;34m,\u001b[0m \u001b[0mtop_k_categorical_accuracy\u001b[0m\u001b[0;34m(\u001b[0m\u001b[0my_test\u001b[0m\u001b[0;34m,\u001b[0m\u001b[0mprediction\u001b[0m\u001b[0;34m,\u001b[0m \u001b[0mk\u001b[0m\u001b[0;34m=\u001b[0m\u001b[0;36m1\u001b[0m\u001b[0;34m)\u001b[0m\u001b[0;34m.\u001b[0m\u001b[0meval\u001b[0m\u001b[0;34m(\u001b[0m\u001b[0;34m)\u001b[0m\u001b[0;34m)\u001b[0m\u001b[0;34m\u001b[0m\u001b[0;34m\u001b[0m\u001b[0m\n\u001b[1;32m      3\u001b[0m     \u001b[0mprint\u001b[0m\u001b[0;34m(\u001b[0m\u001b[0;34m'Correct event was in top two prediction:'\u001b[0m\u001b[0;34m,\u001b[0m \u001b[0mtop_k_categorical_accuracy\u001b[0m\u001b[0;34m(\u001b[0m\u001b[0my_test\u001b[0m\u001b[0;34m,\u001b[0m\u001b[0mprediction\u001b[0m\u001b[0;34m,\u001b[0m \u001b[0mk\u001b[0m\u001b[0;34m=\u001b[0m\u001b[0;36m2\u001b[0m\u001b[0;34m)\u001b[0m\u001b[0;34m.\u001b[0m\u001b[0meval\u001b[0m\u001b[0;34m(\u001b[0m\u001b[0;34m)\u001b[0m\u001b[0;34m)\u001b[0m\u001b[0;34m\u001b[0m\u001b[0;34m\u001b[0m\u001b[0m\n\u001b[1;32m      4\u001b[0m     \u001b[0mprint\u001b[0m\u001b[0;34m(\u001b[0m\u001b[0;34m'Correct event was in top three prediction:'\u001b[0m\u001b[0;34m,\u001b[0m \u001b[0mtop_k_categorical_accuracy\u001b[0m\u001b[0;34m(\u001b[0m\u001b[0my_test\u001b[0m\u001b[0;34m,\u001b[0m\u001b[0mprediction\u001b[0m\u001b[0;34m,\u001b[0m \u001b[0mk\u001b[0m\u001b[0;34m=\u001b[0m\u001b[0;36m3\u001b[0m\u001b[0;34m)\u001b[0m\u001b[0;34m.\u001b[0m\u001b[0meval\u001b[0m\u001b[0;34m(\u001b[0m\u001b[0;34m)\u001b[0m\u001b[0;34m)\u001b[0m\u001b[0;34m\u001b[0m\u001b[0;34m\u001b[0m\u001b[0m\n",
            "\u001b[0;31mAttributeError\u001b[0m: module 'tensorflow' has no attribute 'Session'"
          ]
        }
      ]
    },
    {
      "cell_type": "code",
      "metadata": {
        "id": "CC3dVrVFMOXu"
      },
      "source": [
        ""
      ],
      "execution_count": null,
      "outputs": []
    }
  ]
}